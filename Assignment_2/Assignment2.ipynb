{
 "cells": [
  {
   "cell_type": "code",
   "execution_count": 6,
   "id": "51d662bf",
   "metadata": {},
   "outputs": [
    {
     "name": "stdout",
     "output_type": "stream",
     "text": [
      "Enter two numbers: \n",
      "12\n",
      "24\n",
      "The LCM is 24\n"
     ]
    }
   ],
   "source": [
    "def compute_lcm(x, y):\n",
    "    if x > y:\n",
    "        greater = x\n",
    "    else:\n",
    "        greater = y\n",
    "        \n",
    "    while True:\n",
    "        if (greater % x == 0) and (greater % y == 0):\n",
    "            return greater\n",
    "        greater += 1\n",
    "\n",
    "print(\"Enter two numbers: \")\n",
    "n1 = int(input())\n",
    "n2 = int(input())\n",
    "\n",
    "print(\"The LCM is\", compute_lcm(n1, n2))\n"
   ]
  },
  {
   "cell_type": "code",
   "execution_count": 1,
   "id": "37e4c5fa",
   "metadata": {},
   "outputs": [
    {
     "name": "stdout",
     "output_type": "stream",
     "text": [
      "Calculate: \n",
      "First number: 10\n",
      "Operation: +\n",
      "Second numberL: 2\n",
      "Result = 12\n"
     ]
    }
   ],
   "source": [
    "def calculate(n1,n2,choice):\n",
    "    if choice=='+':\n",
    "        return n1+n2\n",
    "    elif choice=='-':\n",
    "        return n1-n2\n",
    "    elif choice=='*':\n",
    "        return n1*n2\n",
    "    elif choice=='/':\n",
    "        return n1/n2\n",
    "    elif choice=='%':\n",
    "        return n1%n2\n",
    "    else:\n",
    "        print(\"Invalid choice\")\n",
    "        \n",
    "print(\"Calculate: \")\n",
    "n1=int(input(\"First number: \"))\n",
    "choice=input(\"Operation: \")\n",
    "n2=int(input(\"Second numberL: \"))\n",
    "\n",
    "print(\"Result =\",calculate(n1,n2,choice))"
   ]
  },
  {
   "cell_type": "code",
   "execution_count": 8,
   "id": "daa84057",
   "metadata": {},
   "outputs": [
    {
     "name": "stdout",
     "output_type": "stream",
     "text": [
      "[1, 2, 3, 4, 5, 6]\n"
     ]
    }
   ],
   "source": [
    "l1=[1,2,3]\n",
    "l2=[4,5,6]\n",
    "l1.extend(l2)\n",
    "print(l1)"
   ]
  },
  {
   "cell_type": "code",
   "execution_count": 1,
   "id": "afc3eb31",
   "metadata": {},
   "outputs": [
    {
     "name": "stdout",
     "output_type": "stream",
     "text": [
      "[1, 2, 3, 4, 5, 6]\n"
     ]
    }
   ],
   "source": [
    "l1=[1,2,3]\n",
    "l2=[4,5,6]\n",
    "l3=l1+l2\n",
    "print(l3)"
   ]
  },
  {
   "cell_type": "code",
   "execution_count": 25,
   "id": "f2100ed9",
   "metadata": {},
   "outputs": [
    {
     "name": "stdout",
     "output_type": "stream",
     "text": [
      "List =  [1, 2, 3, 4, 5]\n",
      "Tuple =  (1, 2, 3, 4, 5)\n",
      "New list =  [1, 2, 30, 4, 5]\n"
     ]
    },
    {
     "ename": "TypeError",
     "evalue": "'tuple' object does not support item assignment",
     "output_type": "error",
     "traceback": [
      "\u001b[0;31m---------------------------------------------------------------------------\u001b[0m",
      "\u001b[0;31mTypeError\u001b[0m                                 Traceback (most recent call last)",
      "\u001b[0;32m/tmp/ipykernel_6054/1474016565.py\u001b[0m in \u001b[0;36m<module>\u001b[0;34m\u001b[0m\n\u001b[1;32m      5\u001b[0m \u001b[0ml\u001b[0m\u001b[0;34m[\u001b[0m\u001b[0;36m2\u001b[0m\u001b[0;34m]\u001b[0m\u001b[0;34m=\u001b[0m\u001b[0;36m30\u001b[0m\u001b[0;34m\u001b[0m\u001b[0;34m\u001b[0m\u001b[0m\n\u001b[1;32m      6\u001b[0m \u001b[0mprint\u001b[0m\u001b[0;34m(\u001b[0m\u001b[0;34m\"New list = \"\u001b[0m\u001b[0;34m,\u001b[0m\u001b[0ml\u001b[0m\u001b[0;34m)\u001b[0m\u001b[0;34m\u001b[0m\u001b[0;34m\u001b[0m\u001b[0m\n\u001b[0;32m----> 7\u001b[0;31m \u001b[0mt\u001b[0m\u001b[0;34m[\u001b[0m\u001b[0;36m2\u001b[0m\u001b[0;34m]\u001b[0m\u001b[0;34m=\u001b[0m\u001b[0;36m30\u001b[0m\u001b[0;34m\u001b[0m\u001b[0;34m\u001b[0m\u001b[0m\n\u001b[0m\u001b[1;32m      8\u001b[0m \u001b[0mprint\u001b[0m\u001b[0;34m(\u001b[0m\u001b[0;34m\"New tuple = \"\u001b[0m\u001b[0;34m,\u001b[0m\u001b[0mt\u001b[0m\u001b[0;34m)\u001b[0m\u001b[0;34m\u001b[0m\u001b[0;34m\u001b[0m\u001b[0m\n",
      "\u001b[0;31mTypeError\u001b[0m: 'tuple' object does not support item assignment"
     ]
    }
   ],
   "source": [
    "l=[1,2,3,4,5]\n",
    "t=(1,2,3,4,5)\n",
    "print(\"List = \",l)\n",
    "print(\"Tuple = \",t)\n",
    "l[2]=30\n",
    "print(\"New list = \",l)\n",
    "t[2]=30                  #will give error because tuple is immutable\n",
    "print(\"New tuple = \",t)"
   ]
  },
  {
   "cell_type": "code",
   "execution_count": 29,
   "id": "1b743d68",
   "metadata": {},
   "outputs": [
    {
     "name": "stdout",
     "output_type": "stream",
     "text": [
      "Len =  5\n",
      "Max =  5\n",
      "Min =  1\n",
      "Sum of the elements:  15\n",
      "Sorted tuple =  (1, 2, 3, 4, 5)\n"
     ]
    }
   ],
   "source": [
    "t=(1,2,3,4,5)\n",
    "print(\"Len = \",len(t))\n",
    "print(\"Max = \",max(t))\n",
    "print(\"Min = \",min(t))\n",
    "print(\"Sum of the elements: \",sum(t))\n",
    "print(\"Sorted tuple = \", tuple(sorted(t)))\n"
   ]
  },
  {
   "cell_type": "code",
   "execution_count": 32,
   "id": "30ed0224",
   "metadata": {},
   "outputs": [
    {
     "name": "stdout",
     "output_type": "stream",
     "text": [
      "List -> Tuple :  (1, 2, 3, 4, 5)\n",
      "List -> String :  [1, 2, 3, 4, 5]\n",
      "Tuple -> List :  [1, 2, 3, 4, 5]\n",
      "Tuple -> String :  (1, 2, 3, 4, 5)\n",
      "String -> List :  ['D', 'a', 'r', 's', 'h', 'a', 'n']\n",
      "String -> Tuple :  ('D', 'a', 'r', 's', 'h', 'a', 'n')\n"
     ]
    }
   ],
   "source": [
    "l=[1,2,3,4,5]\n",
    "t=(1,2,3,4,5)\n",
    "string=\"Darshan\"\n",
    "\n",
    "print(\"List -> Tuple : \",tuple(l))\n",
    "print(\"List -> String : \",str(l))\n",
    "\n",
    "print(\"Tuple -> List : \",list(t))\n",
    "print(\"Tuple -> String : \",str(t))\n",
    "\n",
    "print(\"String -> List : \",list(string))\n",
    "print(\"String -> Tuple : \",tuple(string))"
   ]
  },
  {
   "cell_type": "code",
   "execution_count": 18,
   "id": "5e644bb0",
   "metadata": {},
   "outputs": [
    {
     "name": "stdout",
     "output_type": "stream",
     "text": [
      "{10: 'Messi', 7: 'Ronaldo', 11: 'Neymar'}\n",
      "{10: 'Messi', 7: 'Ronaldo', 11: 'Neymar'}\n",
      "{}\n",
      "{'a': 10, 'b': 10}\n",
      "Messi\n",
      "dict_items([(10, 'Messi'), (7, 'Ronaldo'), (11, 'Neymar')])\n",
      "dict_keys([10, 7, 11])\n",
      "Neymar removed from dictionary\n",
      "(7, 'Ronaldo') removed from dictionary\n",
      "Value for key 'b': 20\n",
      "Dictionary after setdefault: {'a': 10, 'b': 10, 'c': 20}\n",
      "{'a': 10, 'b': 10, 'c': 20, 10: 'Messi'}\n",
      "dict_values(['Messi'])\n"
     ]
    }
   ],
   "source": [
    "d=dict({10:\"Messi\",7:\"Ronaldo\",11:\"Neymar\"})\n",
    "print(d)\n",
    "\n",
    "d_copy=d.copy()                               #copy()\n",
    "print(d_copy)\n",
    "\n",
    "d_copy.clear()                                #clear()\n",
    "print(d_copy)\n",
    "\n",
    "keys = ['a', 'b']\n",
    "value = 10\n",
    "d_copy = dict.fromkeys(keys,value)            #fromkeys()\n",
    "print(d_copy)\n",
    "\n",
    "print(d.get(10))                              #get()\n",
    "\n",
    "print(d.items())                              #items()\n",
    "\n",
    "print(d.keys())                               #keys()\n",
    "\n",
    "print(d.pop(11),\"removed from dictionary\")    #pop()\n",
    "\n",
    "print(d.popitem(),\"removed from dictionary\")  #popitems()\n",
    "\n",
    "value_b = d_copy.setdefault('c', 20)          #setdefault()\n",
    "print(\"Value for key 'b':\", value_b)\n",
    "print(\"Dictionary after setdefault:\", d_copy)\n",
    "\n",
    "d_copy.update(d)                              #update()\n",
    "print(d_copy)\n",
    "\n",
    "print(d.values())                             #values()"
   ]
  },
  {
   "cell_type": "code",
   "execution_count": 102,
   "id": "831d6692",
   "metadata": {},
   "outputs": [
    {
     "name": "stdout",
     "output_type": "stream",
     "text": [
      "Enter the array elements separated by spaces: 4 3 2 7 5 1 6\n",
      "Array: [4 3 2 7 5 1 6]\n",
      "Second smallest is  2\n",
      "Second largest is  6\n"
     ]
    }
   ],
   "source": [
    "import numpy as np\n",
    "\n",
    "numbers = input(\"Enter the array elements separated by spaces: \")\n",
    "l = list(map(int, numbers.split()))\n",
    "\n",
    "arr = np.array(l)\n",
    "print(\"Array:\", arr)\n",
    "\n",
    "for i in range(0,len(arr)-1):\n",
    "    for j in range(0,len(arr)-i-1):\n",
    "        if arr[j]>arr[j+1]:\n",
    "            temp=arr[j]\n",
    "            arr[j]=arr[j+1]\n",
    "            arr[j+1]=temp\n",
    "\n",
    "print(\"Second smallest is \",arr[1])\n",
    "print(\"Second largest is \",arr[-2])"
   ]
  },
  {
   "cell_type": "code",
   "execution_count": 20,
   "id": "2eae60c2",
   "metadata": {},
   "outputs": [
    {
     "name": "stdout",
     "output_type": "stream",
     "text": [
      "Enter the number: 5\n",
      "Odd\n"
     ]
    }
   ],
   "source": [
    "num=int(input(\"Enter the number: \"))\n",
    "\n",
    "result=\"Odd\"\n",
    "if num%2==0:\n",
    "    result=\"Even\"\n",
    "print(result)"
   ]
  },
  {
   "cell_type": "code",
   "execution_count": 23,
   "id": "82bc2edd",
   "metadata": {},
   "outputs": [
    {
     "name": "stdout",
     "output_type": "stream",
     "text": [
      "Positive indexing : 6\n",
      "Slicing : [4, 5, 6, 7]\n",
      "Negative : 6\n"
     ]
    }
   ],
   "source": [
    "l=[1,2,3,4,5,6,7,8,9,10]\n",
    "print(f\"Positive indexing : {l[5]}\")\n",
    "print(f\"Slicing : {l[3:7]}\")\n",
    "print(f\"Negative : {l[-5]}\")"
   ]
  }
 ],
 "metadata": {
  "kernelspec": {
   "display_name": "Python 3 (ipykernel)",
   "language": "python",
   "name": "python3"
  },
  "language_info": {
   "codemirror_mode": {
    "name": "ipython",
    "version": 3
   },
   "file_extension": ".py",
   "mimetype": "text/x-python",
   "name": "python",
   "nbconvert_exporter": "python",
   "pygments_lexer": "ipython3",
   "version": "3.9.7"
  }
 },
 "nbformat": 4,
 "nbformat_minor": 5
}

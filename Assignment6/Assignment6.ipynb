{
 "cells": [
  {
   "cell_type": "code",
   "execution_count": 4,
   "id": "34f53f4c",
   "metadata": {},
   "outputs": [
    {
     "name": "stdout",
     "output_type": "stream",
     "text": [
      "Coefficients (B1, B2, B3): [ 1.06294938 -0.15180574 -0.40655013]\n",
      "Intercept (B0): 38.873096698265826\n",
      "Predicted values of Y: [48.8701537  44.36184213]\n"
     ]
    }
   ],
   "source": [
    "import pandas as pd\n",
    "from sklearn.linear_model import LinearRegression\n",
    "\n",
    "data = pd.read_csv('Data1.csv')\n",
    "\n",
    "X = data[['X1', 'X2', 'X3']]\n",
    "y = data['Y']\n",
    "\n",
    "model = LinearRegression()\n",
    "model.fit(X, y)\n",
    "\n",
    "coefficients = model.coef_\n",
    "intercept = model.intercept_\n",
    "\n",
    "print(\"Coefficients (B1, B2, B3):\", coefficients)\n",
    "print(\"Intercept (B0):\", intercept)\n",
    "\n",
    "new_data = pd.DataFrame({\n",
    "    'X1': [50, 30],\n",
    "    'X2': [70, 40],\n",
    "    'X3': [80, 50]\n",
    "})\n",
    "\n",
    "predicted_Y = model.predict(new_data)\n",
    "\n",
    "print(\"Predicted values of Y:\", predicted_Y)"
   ]
  },
  {
   "cell_type": "code",
   "execution_count": 8,
   "id": "d7082f85",
   "metadata": {},
   "outputs": [
    {
     "name": "stdout",
     "output_type": "stream",
     "text": [
      "Original DataFrame:\n",
      "   Area  Bedrooms  Age     Price\n",
      "0  2600       3.0   20  550000.0\n",
      "1  3000       4.0   15  565000.0\n",
      "2  3200       NaN   18  610000.0\n",
      "3  3600       3.0   30  595000.0\n",
      "4  4000       5.0    8  760000.0\n",
      "5  2500       4.0    5       NaN\n",
      "\n",
      "Coefficients (B1, B2, B3): [    207.38187882 -128003.47119558  -14987.5285324 ]\n",
      "Intercept (B0): 688960.7287736685\n",
      "\n",
      "Predicted prices for the new data:\n",
      "Prediction for {'Area': 3000, 'Bedrooms': 3, 'Age': 40}: \n",
      "Rs:327594.81\n",
      "Prediction for {'Area': 2500, 'Bedrooms': 4, 'Age': 5}: \n",
      "Rs:620463.90\n"
     ]
    }
   ],
   "source": [
    "import pandas as pd\n",
    "from sklearn.linear_model import LinearRegression\n",
    "from sklearn.impute import SimpleImputer\n",
    "\n",
    "data = {\n",
    "    'Area': [2600, 3000, 3200, 3600, 4000, 2500],\n",
    "    'Bedrooms': [3, 4, None, 3, 5, 4], \n",
    "    'Age': [20, 15, 18, 30, 8, 5],\n",
    "    'Price': [550000, 565000, 610000, 595000, 760000, None] \n",
    "}\n",
    "\n",
    "df = pd.DataFrame(data)\n",
    "\n",
    "print(\"Original DataFrame:\")\n",
    "print(df)\n",
    "\n",
    "imputer = SimpleImputer(strategy='mean') \n",
    "df[['Bedrooms', 'Price']] = imputer.fit_transform(df[['Bedrooms', 'Price']])\n",
    "\n",
    "X = df[['Area', 'Bedrooms', 'Age']]\n",
    "y = df['Price']\n",
    "\n",
    "model = LinearRegression()\n",
    "model.fit(X, y)\n",
    "\n",
    "coefficients = model.coef_\n",
    "intercept = model.intercept_\n",
    "\n",
    "print(\"\\nCoefficients (B1, B2, B3):\", coefficients)\n",
    "print(\"Intercept (B0):\", intercept)\n",
    "\n",
    "new_data = pd.DataFrame({\n",
    "    'Area': [3000, 2500],\n",
    "    'Bedrooms': [3, 4],\n",
    "    'Age': [40, 5]\n",
    "})\n",
    "\n",
    "predicted_price = model.predict(new_data)\n",
    "\n",
    "print(\"\\nPredicted prices for the new data:\")\n",
    "for i, price in enumerate(predicted_price):\n",
    "    print(f\"Prediction for {new_data.iloc[i].to_dict()}: \\nRs:{price:.2f}\")\n"
   ]
  }
 ],
 "metadata": {
  "kernelspec": {
   "display_name": "Python 3 (ipykernel)",
   "language": "python",
   "name": "python3"
  },
  "language_info": {
   "codemirror_mode": {
    "name": "ipython",
    "version": 3
   },
   "file_extension": ".py",
   "mimetype": "text/x-python",
   "name": "python",
   "nbconvert_exporter": "python",
   "pygments_lexer": "ipython3",
   "version": "3.9.7"
  }
 },
 "nbformat": 4,
 "nbformat_minor": 5
}

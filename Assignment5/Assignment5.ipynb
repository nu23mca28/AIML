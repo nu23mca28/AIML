{
 "cells": [
  {
   "cell_type": "code",
   "execution_count": 7,
   "id": "96218a6d",
   "metadata": {},
   "outputs": [
    {
     "name": "stdout",
     "output_type": "stream",
     "text": [
      "Intercept: 328.60141185615464\n",
      "Slope: 0.2618877588805488\n",
      "Predicted Brain Weight for Head Size 4500 cm³: 1507.0963268186242 grams\n",
      "R-squared: 0.7149168473012073\n"
     ]
    }
   ],
   "source": [
    "import pandas as pd\n",
    "from sklearn.linear_model import LinearRegression\n",
    "from sklearn.model_selection import train_test_split\n",
    "\n",
    "# Load the dataset (Replace with the correct path to the headbrain.csv file)\n",
    "df = pd.read_csv('headbrain.csv')\n",
    "\n",
    "# Focus on 'Head Size (cm³)' and 'Brain Weight (grams)'\n",
    "X = df[['Head Size(cm^3)']]  # Independent variable\n",
    "y = df['Brain Weight(grams)']  # Dependent variable\n",
    "\n",
    "# Split the dataset into training and testing sets (80% train, 20% test)\n",
    "X_train, X_test, y_train, y_test = train_test_split(X, y, test_size=0.2, random_state=42)\n",
    "\n",
    "# Create and train the linear regression model\n",
    "model = LinearRegression()\n",
    "model.fit(X_train, y_train)\n",
    "\n",
    "# Intercept and Slope\n",
    "intercept = model.intercept_\n",
    "slope = model.coef_[0]\n",
    "\n",
    "# Print the model parameters\n",
    "print(f'Intercept: {intercept}')\n",
    "print(f'Slope: {slope}')\n",
    "\n",
    "# Predict brain weight for a new head size (e.g., head size = 4500 cm³)\n",
    "new_head_size = pd.DataFrame([[4500]], columns=['Head Size(cm^3)'])  # Create a DataFrame for prediction\n",
    "predicted_brain_weight = model.predict(new_head_size)\n",
    "\n",
    "# Print predicted brain weight\n",
    "print(f'Predicted Brain Weight for Head Size {new_head_size.iloc[0, 0]} cm³: {predicted_brain_weight[0]} grams')\n",
    "\n",
    "# Evaluate the model's R-squared score\n",
    "r_squared = model.score(X_test, y_test)\n",
    "print(f'R-squared: {r_squared}')\n"
   ]
  },
  {
   "cell_type": "code",
   "execution_count": 15,
   "id": "07d9eab1",
   "metadata": {},
   "outputs": [
    {
     "name": "stdout",
     "output_type": "stream",
     "text": [
      "R-squared: 0.6813201159073554\n",
      "Root Mean Squared Error (RMSE): 60.14998267140066\n"
     ]
    }
   ],
   "source": [
    "import pandas as pd\n",
    "import numpy as np\n",
    "from sklearn.linear_model import LinearRegression\n",
    "from sklearn.model_selection import train_test_split\n",
    "from sklearn.metrics import mean_squared_error\n",
    "\n",
    "# Load the dataset (Make sure the correct path to hprice.csv is provided)\n",
    "df = pd.read_csv('hprice.csv')\n",
    "\n",
    "\n",
    "# Extract the relevant columns: 'total_sqft_int' as the independent variable and 'price' as the dependent variable\n",
    "X = df[['total_sqft_int']]  # Independent variable\n",
    "y = df['price']  # Dependent variable\n",
    "\n",
    "# Split the dataset into training and testing sets (80% train, 20% test)\n",
    "X_train, X_test, y_train, y_test = train_test_split(X, y, test_size=0.2, random_state=42)\n",
    "\n",
    "# Create and train the linear regression model\n",
    "model = LinearRegression()\n",
    "model.fit(X_train, y_train)\n",
    "\n",
    "# Predict the values on the test set\n",
    "y_pred = model.predict(X_test)\n",
    "\n",
    "# Calculate the R-squared value\n",
    "r_squared = model.score(X_test, y_test)\n",
    "print(f'R-squared: {r_squared}')\n",
    "\n",
    "# Calculate the Root Mean Squared Error (RMSE)\n",
    "rmse = np.sqrt(mean_squared_error(y_test, y_pred))\n",
    "print(f'Root Mean Squared Error (RMSE): {rmse}')\n",
    "\n"
   ]
  },
  {
   "cell_type": "code",
   "execution_count": 19,
   "id": "119785f8",
   "metadata": {},
   "outputs": [
    {
     "name": "stdout",
     "output_type": "stream",
     "text": [
      "R-squared: 0.6813201159073554\n",
      "Root Mean Squared Error (RMSE): 60.14998267140066\n",
      "Predicted price for total_sqft_int = 2500: 196.42713021760102\n",
      "Predicted prices for total_sqft_int = 1500, 2000, 3500:\n",
      "Total_sqft_int = 1500: 97.96668527457423\n",
      "Total_sqft_int = 2000: 147.19690774608762\n",
      "Total_sqft_int = 3500: 294.8875751606279\n"
     ]
    }
   ],
   "source": [
    "import pandas as pd\n",
    "import numpy as np\n",
    "from sklearn.linear_model import LinearRegression\n",
    "from sklearn.model_selection import train_test_split\n",
    "from sklearn.metrics import mean_squared_error\n",
    "\n",
    "# Load the dataset (Make sure the correct path to hprice.csv is provided)\n",
    "df = pd.read_csv('hprice.csv')\n",
    "\n",
    "# Extract the relevant columns: 'total_sqft_int' as the independent variable and 'price' as the dependent variable\n",
    "X = df[['total_sqft_int']]  # Independent variable\n",
    "y = df['price']  # Dependent variable\n",
    "\n",
    "# Split the dataset into training and testing sets (80% train, 20% test)\n",
    "X_train, X_test, y_train, y_test = train_test_split(X, y, test_size=0.2, random_state=42)\n",
    "\n",
    "# Create and train the linear regression model\n",
    "model = LinearRegression()\n",
    "model.fit(X_train, y_train)\n",
    "\n",
    "# Predict the values on the test set\n",
    "y_pred = model.predict(X_test)\n",
    "\n",
    "# Calculate the R-squared value\n",
    "r_squared = model.score(X_test, y_test)\n",
    "print(f'R-squared: {r_squared}')\n",
    "\n",
    "# Calculate the Root Mean Squared Error (RMSE)\n",
    "rmse = np.sqrt(mean_squared_error(y_test, y_pred))\n",
    "print(f'Root Mean Squared Error (RMSE): {rmse}')\n",
    "\n",
    "# Predict the price for a new single value of total_sqft_int (using DataFrame format)\n",
    "new_sqft_1 = pd.DataFrame([[2500]], columns=['total_sqft_int'])  # Ensure input is in DataFrame with column name\n",
    "predicted_price_1 = model.predict(new_sqft_1)\n",
    "print(f'Predicted price for total_sqft_int = 2500: {predicted_price_1[0]}')\n",
    "\n",
    "# Predict the prices for 3 new values of total_sqft_int (using DataFrame format)\n",
    "new_sqft_3 = pd.DataFrame([[1500], [2000], [3500]], columns=['total_sqft_int'])  # New values in DataFrame format\n",
    "predicted_prices_3 = model.predict(new_sqft_3)\n",
    "\n",
    "print(f'Predicted prices for total_sqft_int = 1500, 2000, 3500:')\n",
    "for i, sqft in enumerate([1500, 2000, 3500]):\n",
    "    print(f'Total_sqft_int = {sqft}: {predicted_prices_3[i]}')\n"
   ]
  },
  {
   "cell_type": "code",
   "execution_count": 26,
   "id": "4628963f",
   "metadata": {},
   "outputs": [
    {
     "name": "stdout",
     "output_type": "stream",
     "text": [
      "R-squared: 0.6851723195179296\n",
      "Root Mean Squared Error (RMSE): 63.61198320859406\n"
     ]
    },
    {
     "data": {
      "image/png": "[encoded data removed]",
      "text/plain": [
       "<Figure size 720x432 with 1 Axes>"
      ]
     },
     "metadata": {
      "needs_background": "light"
     },
     "output_type": "display_data"
    }
   ],
   "source": [
    "import pandas as pd\n",
    "import numpy as np\n",
    "import matplotlib.pyplot as plt\n",
    "from sklearn.linear_model import LinearRegression\n",
    "from sklearn.model_selection import train_test_split\n",
    "from sklearn.metrics import mean_squared_error\n",
    "\n",
    "# Load the dataset (Make sure the correct path to hprice.csv is provided)\n",
    "df = pd.read_csv('hprice.csv')\n",
    "\n",
    "# Extract the relevant columns: 'total_sqft_int' as the independent variable and 'price' as the dependent variable\n",
    "X = df[['total_sqft_int']]  # Independent variable\n",
    "y = df['price']  # Dependent variable\n",
    "\n",
    "# Split the dataset into training and testing sets (75% train, 25% test)\n",
    "X_train, X_test, y_train, y_test = train_test_split(X, y, test_size=0.25, random_state=42)\n",
    "\n",
    "# Create and train the linear regression model\n",
    "model = LinearRegression()\n",
    "model.fit(X_train, y_train)\n",
    "\n",
    "# Predict the values on the test set\n",
    "y_pred = model.predict(X_test)\n",
    "\n",
    "# Calculate the R-squared value\n",
    "r_squared = model.score(X_test, y_test)\n",
    "print(f'R-squared: {r_squared}')\n",
    "\n",
    "# Calculate the Root Mean Squared Error (RMSE)\n",
    "rmse = np.sqrt(mean_squared_error(y_test, y_pred))\n",
    "print(f'Root Mean Squared Error (RMSE): {rmse}')\n",
    "\n",
    "# Plotting the results\n",
    "plt.figure(figsize=(10, 6))\n",
    "\n",
    "# Scatter plot of actual data points\n",
    "plt.scatter(X, y, color='blue', label='Actual Data')\n",
    "\n",
    "# Plot the regression line using the model's prediction\n",
    "plt.plot(X, model.predict(X), color='red', label='Regression Line')\n",
    "\n",
    "# Add titles and labels\n",
    "plt.title('Simple Linear Regression')\n",
    "plt.xlabel('Total Square Footage (total_sqft_int)')\n",
    "plt.ylabel('Price')\n",
    "plt.legend()\n",
    "\n",
    "# Show the plot\n",
    "plt.show()\n"
   ]
  }
 ],
 "metadata": {
  "kernelspec": {
   "display_name": "Python 3 (ipykernel)",
   "language": "python",
   "name": "python3"
  },
  "language_info": {
   "codemirror_mode": {
    "name": "ipython",
    "version": 3
   },
   "file_extension": ".py",
   "mimetype": "text/x-python",
   "name": "python",
   "nbconvert_exporter": "python",
   "pygments_lexer": "ipython3",
   "version": "3.9.7"
  }
 },
 "nbformat": 4,
 "nbformat_minor": 5
}

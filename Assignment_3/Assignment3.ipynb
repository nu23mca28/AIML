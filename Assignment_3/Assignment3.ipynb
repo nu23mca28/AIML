{
 "cells": [
  {
   "cell_type": "code",
   "execution_count": 41,
   "id": "0fb1f3ef",
   "metadata": {},
   "outputs": [
    {
     "name": "stdout",
     "output_type": "stream",
     "text": [
      "Enter your name: Darshan Dinesh M P\n",
      "D. D. M. P. "
     ]
    }
   ],
   "source": [
    "name=input(\"Enter your name: \")\n",
    "l=name.split(' ')\n",
    "for i in l:\n",
    "    print(f\"{i[0]}. \",end='')"
   ]
  },
  {
   "cell_type": "code",
   "execution_count": 30,
   "id": "f0ceb94a",
   "metadata": {},
   "outputs": [
    {
     "name": "stdout",
     "output_type": "stream",
     "text": [
      "Enter password: Nnm23mc028\n",
      "Your password is strong!\n"
     ]
    }
   ],
   "source": [
    "pwd=input(\"Enter password: \")\n",
    "upper=False\n",
    "lower=False\n",
    "digit=False\n",
    "for i in pwd:\n",
    "    if i.isupper():\n",
    "        upper=True\n",
    "    if i.islower():\n",
    "        lower=True\n",
    "    if i.isdigit():\n",
    "        digit=True\n",
    "if len(pwd)<8:\n",
    "    print(\"Password should be atleast 8 characters\")\n",
    "elif not upper:\n",
    "    print(\"Password should contain atleast 1 uppercase\")\n",
    "elif not lower:\n",
    "    print(\"Password should contain atleast 1 lowercase\")\n",
    "elif not digit:\n",
    "    print(\"Password should contain atleast 1 digit\")\n",
    "else:\n",
    "    print(\"Your password is strong!\")"
   ]
  },
  {
   "cell_type": "code",
   "execution_count": 2,
   "id": "4c8d253a",
   "metadata": {},
   "outputs": [
    {
     "name": "stdout",
     "output_type": "stream",
     "text": [
      "Enter a string: darshan\n",
      "narshad\n"
     ]
    }
   ],
   "source": [
    "string=input(\"Enter a string: \")\n",
    "# s=list(string)\n",
    "new_str=\"\"\n",
    "new_str+=string[-1]\n",
    "new_str+=string[1:-1:]\n",
    "new_str+=string[0]\n",
    "print(new_str)"
   ]
  },
  {
   "cell_type": "code",
   "execution_count": 7,
   "id": "ed89ac49",
   "metadata": {},
   "outputs": [
    {
     "name": "stdout",
     "output_type": "stream",
     "text": [
      "Enter a string: abcdefghi\n",
      "Number of vowels : 1\n"
     ]
    }
   ],
   "source": [
    "string=input(\"Enter a string: \")\n",
    "l=['a','e','i','o','u','A','E','I','O','U']\n",
    "count=0\n",
    "for i in string:\n",
    "    if i in l:\n",
    "        count+=1\n",
    "print(f\"Number of vowels : {count}\")"
   ]
  },
  {
   "cell_type": "code",
   "execution_count": 40,
   "id": "04978fcc",
   "metadata": {},
   "outputs": [
    {
     "name": "stdout",
     "output_type": "stream",
     "text": [
      "Enter a string: Nnm23mc028\n",
      "1 Uppercase\n",
      "4 Lowercase\n",
      "5 Digits\n"
     ]
    }
   ],
   "source": [
    "string=input(\"Enter a string: \")\n",
    "upper=0\n",
    "lower=0\n",
    "digit=0\n",
    "for i in string:\n",
    "    if i.isupper():\n",
    "        upper+=1\n",
    "    if i.islower():\n",
    "        lower+=1\n",
    "    if i.isdigit():\n",
    "        digit+=1\n",
    "\n",
    "print(f\"{upper} Uppercase\")\n",
    "print(f\"{lower} Lowercase\")\n",
    "print(f\"{digit} Digits\")"
   ]
  },
  {
   "cell_type": "code",
   "execution_count": null,
   "id": "4f7baa84",
   "metadata": {},
   "outputs": [],
   "source": []
  }
 ],
 "metadata": {
  "kernelspec": {
   "display_name": "Python 3 (ipykernel)",
   "language": "python",
   "name": "python3"
  },
  "language_info": {
   "codemirror_mode": {
    "name": "ipython",
    "version": 3
   },
   "file_extension": ".py",
   "mimetype": "text/x-python",
   "name": "python",
   "nbconvert_exporter": "python",
   "pygments_lexer": "ipython3",
   "version": "3.9.7"
  }
 },
 "nbformat": 4,
 "nbformat_minor": 5
}

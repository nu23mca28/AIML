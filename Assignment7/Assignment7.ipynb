{
 "cells": [
  {
   "cell_type": "code",
   "execution_count": 5,
   "id": "7d760226",
   "metadata": {},
   "outputs": [
    {
     "name": "stdout",
     "output_type": "stream",
     "text": [
      "Coefficients:  [ 6.31439345e-16  5.09530887e-03 -3.86428782e-03  3.78135744e-03\n",
      " -6.82435912e-02  6.72894739e-02  7.11172071e-02 -2.46036860e-03\n",
      " -6.43238534e-02  2.82571685e-03]\n",
      "Intercept (B0):  47.21918608944764\n"
     ]
    }
   ],
   "source": [
    "import pandas as pd\n",
    "from sklearn.linear_model import LinearRegression\n",
    "from sklearn.preprocessing import PolynomialFeatures\n",
    "\n",
    "data = pd.read_csv('Data1.csv')\n",
    "\n",
    "X = data[['X1', 'X2', 'X3']]\n",
    "y = data['Y']\n",
    "\n",
    "poly_features = PolynomialFeatures(degree=degree)\n",
    "X_poly = poly_features.fit_transform(X)\n",
    "\n",
    "model = LinearRegression()\n",
    "model.fit(X_poly, y)\n",
    "\n",
    "coefficients = model.coef_\n",
    "intercept = model.intercept_\n",
    "\n",
    "print(\"Coefficients: \", coefficients)\n",
    "print(\"Intercept (B0): \", intercept)\n"
   ]
  },
  {
   "cell_type": "code",
   "execution_count": 11,
   "id": "6f9fa542",
   "metadata": {},
   "outputs": [
    {
     "data": {
      "image/png": "[encoded data removed]",
      "text/plain": [
       "<Figure size 864x360 with 2 Axes>"
      ]
     },
     "metadata": {
      "needs_background": "light"
     },
     "output_type": "display_data"
    }
   ],
   "source": [
    "import numpy as np\n",
    "import matplotlib.pyplot as plt\n",
    "from sklearn.cluster import KMeans\n",
    "\n",
    "x = [4, 5, 10, 4, 3, 11, 14, 6, 10, 12]\n",
    "y = [21, 19, 24, 17, 16, 25, 24, 22, 21, 21]\n",
    "\n",
    "data = np.array(list(zip(x, y)))\n",
    "\n",
    "plt.figure(figsize=(12, 5))\n",
    "\n",
    "plt.subplot(1, 2, 1)\n",
    "plt.scatter(x, y, color='blue', marker='o')\n",
    "plt.title('Initial Data Points')\n",
    "plt.xlabel('X-axis')\n",
    "plt.ylabel('Y-axis')\n",
    "plt.grid(True)\n",
    "\n",
    "kmeans = KMeans(n_clusters=k, random_state=0)\n",
    "kmeans.fit(data)\n",
    "\n",
    "centers = kmeans.cluster_centers_\n",
    "labels = kmeans.labels_\n",
    "\n",
    "plt.subplot(1, 2, 2)\n",
    "plt.scatter(data[:, 0], data[:, 1], c=labels, cmap='viridis', marker='o')\n",
    "plt.scatter(centers[:, 0], centers[:, 1], c='red', marker='X', s=100, label='Centroids')\n",
    "plt.title('K-means Clustering')\n",
    "plt.xlabel('X-axis')\n",
    "plt.ylabel('Y-axis')\n",
    "plt.legend()\n",
    "plt.grid(True)\n",
    "\n",
    "plt.tight_layout()\n",
    "plt.show()\n"
   ]
  },
  {
   "cell_type": "code",
   "execution_count": 12,
   "id": "9bf6e9c1",
   "metadata": {},
   "outputs": [
    {
     "name": "stdout",
     "output_type": "stream",
     "text": [
      "Decision Tree Rules:\n",
      " |--- Weather <= 0.50\n",
      "|   |--- class: 1\n",
      "|--- Weather >  0.50\n",
      "|   |--- Humidity <= 0.50\n",
      "|   |   |--- Weather <= 1.50\n",
      "|   |   |   |--- Windy <= 0.50\n",
      "|   |   |   |   |--- class: 1\n",
      "|   |   |   |--- Windy >  0.50\n",
      "|   |   |   |   |--- class: 0\n",
      "|   |   |--- Weather >  1.50\n",
      "|   |   |   |--- class: 0\n",
      "|   |--- Humidity >  0.50\n",
      "|   |   |--- Windy <= 0.50\n",
      "|   |   |   |--- class: 1\n",
      "|   |   |--- Windy >  0.50\n",
      "|   |   |   |--- Temperature <= 1.00\n",
      "|   |   |   |   |--- class: 0\n",
      "|   |   |   |--- Temperature >  1.00\n",
      "|   |   |   |   |--- class: 1\n",
      "\n",
      "\n",
      "Information Gain for Weather: 0.2467\n",
      "Information Gain for Temperature: 0.0292\n",
      "Information Gain for Humidity: 0.1518\n",
      "Information Gain for Windy: 0.0481\n"
     ]
    }
   ],
   "source": [
    "import pandas as pd\n",
    "import numpy as np\n",
    "from sklearn.tree import DecisionTreeClassifier, export_text\n",
    "from sklearn.preprocessing import LabelEncoder\n",
    "from sklearn.metrics import accuracy_score\n",
    "\n",
    "# Sample dataset\n",
    "data = {\n",
    "    'Weather': ['Sunny', 'Sunny', 'Overcast', 'Rain', 'Rain', 'Rain', \n",
    "                'Overcast', 'Sunny', 'Sunny', 'Rain', 'Sunny', \n",
    "                'Overcast', 'Overcast', 'Rain'],\n",
    "    'Temperature': ['Hot', 'Hot', 'Hot', 'Mild', 'Cool', 'Cool', \n",
    "                    'Cool', 'Mild', 'Cool', 'Mild', 'Mild', \n",
    "                    'Mild', 'Hot', 'Mild'],\n",
    "    'Humidity': ['High', 'High', 'High', 'High', 'Normal', 'Normal', \n",
    "                 'Normal', 'High', 'Normal', 'Normal', 'Normal', \n",
    "                 'High', 'Normal', 'High'],\n",
    "    'Windy': [False, True, False, False, False, True, True, \n",
    "              False, False, False, True, True, False, True],\n",
    "    'Play': ['No', 'No', 'Yes', 'Yes', 'Yes', 'No', \n",
    "             'Yes', 'No', 'Yes', 'Yes', 'Yes', \n",
    "             'Yes', 'Yes', 'No']\n",
    "}\n",
    "\n",
    "df = pd.DataFrame(data)\n",
    "\n",
    "label_encoders = {}\n",
    "for column in df.columns:\n",
    "    if df[column].dtype == type(object):\n",
    "        le = LabelEncoder()\n",
    "        df[column] = le.fit_transform(df[column])\n",
    "        label_encoders[column] = le\n",
    "\n",
    "X = df.drop('Play', axis=1)\n",
    "y = df['Play']\n",
    "\n",
    "clf = DecisionTreeClassifier(random_state=0)\n",
    "clf.fit(X, y)\n",
    "\n",
    "tree_rules = export_text(clf, feature_names=list(X.columns))\n",
    "print(\"Decision Tree Rules:\\n\", tree_rules)\n",
    "\n",
    "def entropy(target):\n",
    "    value, counts = np.unique(target, return_counts=True)\n",
    "    probabilities = counts / counts.sum()\n",
    "    return -np.sum(probabilities * np.log2(probabilities))\n",
    "\n",
    "def information_gain(data, feature, target):\n",
    "    total_entropy = entropy(target)\n",
    "    \n",
    "    values, counts = np.unique(data[feature], return_counts=True)\n",
    "    \n",
    "    weighted_entropy = 0\n",
    "    for value, count in zip(values, counts):\n",
    "        subset = target[data[feature] == value]\n",
    "        weighted_entropy += (count / sum(counts)) * entropy(subset)\n",
    "    \n",
    "    return total_entropy - weighted_entropy\n",
    "\n",
    "info_gain_weather = information_gain(df, 'Weather', df['Play'])\n",
    "info_gain_temperature = information_gain(df, 'Temperature', df['Play'])\n",
    "info_gain_humidity = information_gain(df, 'Humidity', df['Play'])\n",
    "info_gain_windy = information_gain(df, 'Windy', df['Play'])\n",
    "\n",
    "print(f\"\\nInformation Gain for Weather: {info_gain_weather:.4f}\")\n",
    "print(f\"Information Gain for Temperature: {info_gain_temperature:.4f}\")\n",
    "print(f\"Information Gain for Humidity: {info_gain_humidity:.4f}\")\n",
    "print(f\"Information Gain for Windy: {info_gain_windy:.4f}\")\n"
   ]
  },
  {
   "cell_type": "code",
   "execution_count": 10,
   "id": "adda6054",
   "metadata": {},
   "outputs": [
    {
     "data": {
      "image/png": "[encoded data removed]",
      "text/plain": [
       "<Figure size 720x432 with 1 Axes>"
      ]
     },
     "metadata": {
      "needs_background": "light"
     },
     "output_type": "display_data"
    }
   ],
   "source": [
    "import numpy as np\n",
    "import matplotlib.pyplot as plt\n",
    "from sklearn import svm\n",
    "\n",
    "positive_class = np.array([[3, 1], [3, -1], [6, 1], [6, -1]])\n",
    "negative_class = np.array([[1, 0], [0, 1], [0, -1], [-1, 0]])\n",
    "\n",
    "X = np.vstack((positive_class, negative_class))\n",
    "y = np.array([1] * len(positive_class) + [-1] * len(negative_class))\n",
    "\n",
    "model = svm.SVC(kernel='linear', C=1.0)\n",
    "model.fit(X, y)\n",
    "\n",
    "w = model.coef_[0]\n",
    "slope = -w[0] / w[1]\n",
    "intercept = -model.intercept_[0] / w[1]\n",
    "\n",
    "xx = np.linspace(-2, 8, 100)\n",
    "yy = slope * xx + intercept\n",
    "\n",
    "plt.figure(figsize=(10, 6))\n",
    "plt.scatter(positive_class[:, 0], positive_class[:, 1], color='blue', label='Positive Class')\n",
    "plt.scatter(negative_class[:, 0], negative_class[:, 1], color='red', label='Negative Class')\n",
    "\n",
    "plt.plot(xx, yy, 'k-')\n",
    "plt.xlim(-2, 8)\n",
    "plt.ylim(-2, 8)\n",
    "\n",
    "support_vectors = model.support_vectors_\n",
    "plt.scatter(support_vectors[:, 0], support_vectors[:, 1], s=100, facecolors='none', edgecolors='green', label='Support Vectors')\n",
    "\n",
    "plt.title('SVM with Optimal Hyperplane')\n",
    "plt.xlabel('X-axis')\n",
    "plt.ylabel('Y-axis')\n",
    "plt.axhline(0, color='black', lw=0.5, ls='--')\n",
    "plt.axvline(0, color='black', lw=0.5, ls='--')\n",
    "plt.grid()\n",
    "plt.legend()\n",
    "plt.show()\n"
   ]
  }
 ],
 "metadata": {
  "kernelspec": {
   "display_name": "Python 3 (ipykernel)",
   "language": "python",
   "name": "python3"
  },
  "language_info": {
   "codemirror_mode": {
    "name": "ipython",
    "version": 3
   },
   "file_extension": ".py",
   "mimetype": "text/x-python",
   "name": "python",
   "nbconvert_exporter": "python",
   "pygments_lexer": "ipython3",
   "version": "3.9.7"
  }
 },
 "nbformat": 4,
 "nbformat_minor": 5
}
